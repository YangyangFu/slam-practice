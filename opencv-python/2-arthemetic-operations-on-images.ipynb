{
 "cells": [
  {
   "attachments": {},
   "cell_type": "markdown",
   "metadata": {},
   "source": [
    "# 2. Arthemetic Operations on Images\n",
    "\n",
    "## Goal\n",
    "* Learn several arithmetic operations on images like addition, subtraction, bitwise operations etc.\n",
    "* You will learn these functions : cv2.add(), cv2.addWeighted() etc.\n"
   ]
  },
  {
   "cell_type": "code",
   "execution_count": 1,
   "metadata": {},
   "outputs": [],
   "source": [
    "import numpy as np \n",
    "import matplotlib.pyplot as plt\n",
    "import cv2 as cv"
   ]
  },
  {
   "attachments": {},
   "cell_type": "markdown",
   "metadata": {},
   "source": [
    "## Image Addition"
   ]
  },
  {
   "cell_type": "code",
   "execution_count": 2,
   "metadata": {},
   "outputs": [
    {
     "name": "stdout",
     "output_type": "stream",
     "text": [
      "[4]\n"
     ]
    }
   ],
   "source": [
    "# pixel addition overflows with uint8 as the range of piexel is represented by 0-255\n",
    "x = np.uint8([250])\n",
    "y = np.uint8([10])\n",
    "\n",
    "# modulus operation in Numpy\n",
    "print(x+y) # 250+10 = 260 % 256 = 4\n",
    "\n",
    "# satured operation in OpenCV\n",
    "print(cv.add(x,y)) # 250+10 = 260 => 255"
   ]
  },
  {
   "attachments": {},
   "cell_type": "markdown",
   "metadata": {},
   "source": [
    "## Image Blending\n",
    "\n",
    "This is also image addition but different weights are assigned to different images so that it gives a feeling of blending or transparency. Images are added as per the equation below:\n",
    "\n",
    "$$g(x) = (1 - \\alpha)f_0(x) + \\alpha f_1(x)$$\n",
    "\n",
    "By varying $\\alpha$ from 0 $\\rightarrow$ 1, you can perform a cool transition between one image to another.\n",
    "\n",
    "Here I took two images to blend them together. First image is given a weight of 0.7 and second image is given 0.3. cv2.addWeighted() applies following equation on the image.\n",
    "\n",
    "$$dst = \\alpha \\cdot img1 + \\beta \\cdot img2 + \\gamma$$\n",
    "\n",
    "Here $\\gamma$ is taken as zero.\n",
    "\n"
   ]
  },
  {
   "cell_type": "code",
   "execution_count": null,
   "metadata": {},
   "outputs": [],
   "source": [
    "img1 = cv.imread('messi5.jpg')\n",
    "img2 = cv.imread('opencv-logo.png')\n",
    "\n",
    "# add two images with the same size\n",
    "dst = cv.addWeighted(img1, 0.7, img2, 0.3, 0)"
   ]
  },
  {
   "attachments": {},
   "cell_type": "markdown",
   "metadata": {},
   "source": [
    "## Bitwise Operations\n",
    "\n",
    "This includes bitwise AND, OR, NOT and XOR operations. They will be highly useful while extracting any part of the image (as we will see in coming chapters), defining and working with non-rectangular ROI etc. Below we will see an example on how to change a particular region of an image.\n",
    "\n",
    "I want to put OpenCV logo above an image. If I add two images, it will change color. If I blend it, I get an transparent effect. But I want it to be opaque. If it was a rectangular region, I could use ROI as we did in last chapter. But OpenCV logo is a not a rectangular shape. So you can do it with bitwise operations as below:"
   ]
  },
  {
   "cell_type": "code",
   "execution_count": null,
   "metadata": {},
   "outputs": [],
   "source": [
    "# load two images\n",
    "img1 = cv.imread('messi5.jpg')\n",
    "img2 = cv.imread('opencv-logo.png')\n",
    "\n",
    "# put logo on top-left corner, create a ROI\n",
    "rows, cols, channels = img2.shape\n",
    "roi = img1[0:rows, 0:cols]\n",
    "\n",
    "# create a mask of logo and create its inverse mask\n",
    "img2gray = cv.cvtColor(img2, cv.COLOR_BGR2GRAY)\n",
    "ret, mask = cv.threshold(img2gray, 10, 255, cv.THRESH_BINARY)\n",
    "mask_inv = cv.bitwise_not(mask)\n",
    "\n",
    "# black-out the area of logo in ROI\n",
    "img1_bg = cv.bitwise_and(roi, roi, mask=mask_inv)\n",
    "\n",
    "# take only region of logo from logo image\n",
    "img2_fg = cv.bitwise_and(img2, img2, mask=mask)\n",
    "\n",
    "# put logo in ROI and modify the main image\n",
    "dst = cv.add(img1_bg, img2_fg)\n",
    "img1[0:rows, 0:cols] = dst\n",
    "\n"
   ]
  }
 ],
 "metadata": {
  "kernelspec": {
   "display_name": "base",
   "language": "python",
   "name": "python3"
  },
  "language_info": {
   "codemirror_mode": {
    "name": "ipython",
    "version": 3
   },
   "file_extension": ".py",
   "mimetype": "text/x-python",
   "name": "python",
   "nbconvert_exporter": "python",
   "pygments_lexer": "ipython3",
   "version": "3.9.13"
  },
  "orig_nbformat": 4
 },
 "nbformat": 4,
 "nbformat_minor": 2
}
